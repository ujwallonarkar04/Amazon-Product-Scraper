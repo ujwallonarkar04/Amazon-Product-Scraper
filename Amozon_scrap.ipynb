{
 "cells": [
  {
   "cell_type": "code",
   "execution_count": 2,
   "id": "7b74631a",
   "metadata": {},
   "outputs": [],
   "source": [
    "import requests\n",
    "from bs4 import BeautifulSoup\n",
    "import pandas as pd\n"
   ]
  },
  {
   "cell_type": "code",
   "execution_count": 3,
   "id": "ae5a043b",
   "metadata": {},
   "outputs": [],
   "source": [
    "base_url = \"https://www.amazon.in/s?k=bags&crid=2M096C61O4MLT&qid=1653308124&sprefix=ba%2Caps%2C283&ref=sr_pg_\"\n",
    "data = []\n"
   ]
  },
  {
   "cell_type": "code",
   "execution_count": 20,
   "id": "ed7673fa",
   "metadata": {},
   "outputs": [],
   "source": [
    "for page in range(1, 31):\n",
    "    url = base_url + str(page)\n",
    "    response = requests.get(url)\n",
    "    soup = BeautifulSoup(response.content, 'html.parser')\n",
    "    \n",
    "    # Extract product information\n",
    "    for product in products:\n",
    "        product_link = product.find('a', {'class': 'a-link-normal'})\n",
    "        if product_link:\n",
    "            product_url = 'https://www.amazon.in' + product_link['href']\n",
    "        else:\n",
    "            product_url = \"N/A\"\n",
    "\n",
    "        product_name_element = product.find('span', {'class': 'a-text-normal'})\n",
    "        product_name = product_name_element.get_text(strip=True) if product_name_element else \"N/A\"\n",
    "\n",
    "        product_price_element = product.find('span', {'class': 'a-price'})\n",
    "        product_price = product_price_element.get_text(strip=True) if product_price_element else \"N/A\"\n",
    "\n",
    "        product_rating_element = product.find('span', {'class': 'a-icon-alt'})\n",
    "        product_rating = product_rating_element.get_text(strip=True) if product_rating_element else \"N/A\"\n",
    "\n",
    "        product_reviews_element = product.find('span', {'class': 'a-size-base'})\n",
    "        product_reviews = product_reviews_element.get_text(strip=True) if product_reviews_element else \"N/A\"\n",
    "\n",
    "        data.append([product_url, product_name, product_price, product_rating, product_reviews])\n",
    "\n"
   ]
  },
  {
   "cell_type": "code",
   "execution_count": null,
   "id": "aa0e3d3d",
   "metadata": {},
   "outputs": [],
   "source": []
  },
  {
   "cell_type": "code",
   "execution_count": 85,
   "id": "79184ccc",
   "metadata": {},
   "outputs": [],
   "source": [
    "Data = pd.DataFrame(data, columns=['Product URL', 'Product Name', 'Product Price', 'Rating', 'Number of Reviews'])\n",
    "Data.to_csv('amazon_products.csv', index=False)\n"
   ]
  },
  {
   "cell_type": "code",
   "execution_count": 86,
   "id": "bced0c4b",
   "metadata": {},
   "outputs": [
    {
     "data": {
      "text/html": [
       "<div>\n",
       "<style scoped>\n",
       "    .dataframe tbody tr th:only-of-type {\n",
       "        vertical-align: middle;\n",
       "    }\n",
       "\n",
       "    .dataframe tbody tr th {\n",
       "        vertical-align: top;\n",
       "    }\n",
       "\n",
       "    .dataframe thead th {\n",
       "        text-align: right;\n",
       "    }\n",
       "</style>\n",
       "<table border=\"1\" class=\"dataframe\">\n",
       "  <thead>\n",
       "    <tr style=\"text-align: right;\">\n",
       "      <th></th>\n",
       "      <th>Product URL</th>\n",
       "      <th>Product Name</th>\n",
       "      <th>Product Price</th>\n",
       "      <th>Rating</th>\n",
       "      <th>Number of Reviews</th>\n",
       "    </tr>\n",
       "  </thead>\n",
       "  <tbody>\n",
       "    <tr>\n",
       "      <th>0</th>\n",
       "      <td>https://www.amazon.in/b/ref=sxts_spks_0_0_5b47...</td>\n",
       "      <td>N/A</td>\n",
       "      <td>N/A</td>\n",
       "      <td>N/A</td>\n",
       "      <td>N/A</td>\n",
       "    </tr>\n",
       "    <tr>\n",
       "      <th>1</th>\n",
       "      <td>https://www.amazon.in/b/ref=sxts_spks_0_0_5b47...</td>\n",
       "      <td>N/A</td>\n",
       "      <td>N/A</td>\n",
       "      <td>N/A</td>\n",
       "      <td>N/A</td>\n",
       "    </tr>\n",
       "    <tr>\n",
       "      <th>2</th>\n",
       "      <td>N/A</td>\n",
       "      <td>Price and other details may vary based on prod...</td>\n",
       "      <td>N/A</td>\n",
       "      <td>N/A</td>\n",
       "      <td>Price and other details may vary based on prod...</td>\n",
       "    </tr>\n",
       "    <tr>\n",
       "      <th>3</th>\n",
       "      <td>https://www.amazon.in/Wesley-Milestone-Waterpr...</td>\n",
       "      <td>Wesley Milestone 2.0 Casual Waterproof Laptop ...</td>\n",
       "      <td>₹499₹499</td>\n",
       "      <td>4.3 out of 5 stars</td>\n",
       "      <td>13,211</td>\n",
       "    </tr>\n",
       "    <tr>\n",
       "      <th>4</th>\n",
       "      <td>https://www.amazon.in/gp/bestsellers/luggage/2...</td>\n",
       "      <td>American Tourister Fizz Large Size 32 Ltrs Cas...</td>\n",
       "      <td>₹799₹799</td>\n",
       "      <td>4.0 out of 5 stars</td>\n",
       "      <td>56,327</td>\n",
       "    </tr>\n",
       "  </tbody>\n",
       "</table>\n",
       "</div>"
      ],
      "text/plain": [
       "                                         Product URL  \\\n",
       "0  https://www.amazon.in/b/ref=sxts_spks_0_0_5b47...   \n",
       "1  https://www.amazon.in/b/ref=sxts_spks_0_0_5b47...   \n",
       "2                                                N/A   \n",
       "3  https://www.amazon.in/Wesley-Milestone-Waterpr...   \n",
       "4  https://www.amazon.in/gp/bestsellers/luggage/2...   \n",
       "\n",
       "                                        Product Name Product Price  \\\n",
       "0                                                N/A           N/A   \n",
       "1                                                N/A           N/A   \n",
       "2  Price and other details may vary based on prod...           N/A   \n",
       "3  Wesley Milestone 2.0 Casual Waterproof Laptop ...      ₹499₹499   \n",
       "4  American Tourister Fizz Large Size 32 Ltrs Cas...      ₹799₹799   \n",
       "\n",
       "               Rating                                  Number of Reviews  \n",
       "0                 N/A                                                N/A  \n",
       "1                 N/A                                                N/A  \n",
       "2                 N/A  Price and other details may vary based on prod...  \n",
       "3  4.3 out of 5 stars                                             13,211  \n",
       "4  4.0 out of 5 stars                                             56,327  "
      ]
     },
     "execution_count": 86,
     "metadata": {},
     "output_type": "execute_result"
    }
   ],
   "source": [
    "Data.head()"
   ]
  },
  {
   "cell_type": "code",
   "execution_count": 87,
   "id": "6b4c1732",
   "metadata": {},
   "outputs": [
    {
     "name": "stdout",
     "output_type": "stream",
     "text": [
      "<class 'pandas.core.frame.DataFrame'>\n",
      "RangeIndex: 1601 entries, 0 to 1600\n",
      "Data columns (total 5 columns):\n",
      " #   Column             Non-Null Count  Dtype \n",
      "---  ------             --------------  ----- \n",
      " 0   Product URL        1601 non-null   object\n",
      " 1   Product Name       1601 non-null   object\n",
      " 2   Product Price      1601 non-null   object\n",
      " 3   Rating             1601 non-null   object\n",
      " 4   Number of Reviews  1601 non-null   object\n",
      "dtypes: object(5)\n",
      "memory usage: 62.7+ KB\n"
     ]
    }
   ],
   "source": [
    "Data.info()"
   ]
  },
  {
   "cell_type": "code",
   "execution_count": 88,
   "id": "0877710c",
   "metadata": {},
   "outputs": [
    {
     "data": {
      "text/plain": [
       "Product URL          0\n",
       "Product Name         0\n",
       "Product Price        0\n",
       "Rating               0\n",
       "Number of Reviews    0\n",
       "dtype: int64"
      ]
     },
     "execution_count": 88,
     "metadata": {},
     "output_type": "execute_result"
    }
   ],
   "source": [
    "Data.isnull().sum()"
   ]
  },
  {
   "cell_type": "code",
   "execution_count": 89,
   "id": "d66f3c78",
   "metadata": {},
   "outputs": [
    {
     "name": "stdout",
     "output_type": "stream",
     "text": [
      "Product URL          200\n",
      "Product Name         301\n",
      "Product Price        351\n",
      "Rating               351\n",
      "Number of Reviews    201\n",
      "dtype: int64\n"
     ]
    }
   ],
   "source": [
    "counts = Data.apply(lambda column: column.value_counts().get(\"N/A\", 0))\n",
    "print(counts)\n"
   ]
  },
  {
   "cell_type": "code",
   "execution_count": 90,
   "id": "cf52fff5",
   "metadata": {},
   "outputs": [],
   "source": [
    "Data= Data[Data[\"Product URL\"] != \"N/A\"]\n"
   ]
  },
  {
   "cell_type": "code",
   "execution_count": 91,
   "id": "cbdb8e04",
   "metadata": {},
   "outputs": [
    {
     "data": {
      "text/html": [
       "<div>\n",
       "<style scoped>\n",
       "    .dataframe tbody tr th:only-of-type {\n",
       "        vertical-align: middle;\n",
       "    }\n",
       "\n",
       "    .dataframe tbody tr th {\n",
       "        vertical-align: top;\n",
       "    }\n",
       "\n",
       "    .dataframe thead th {\n",
       "        text-align: right;\n",
       "    }\n",
       "</style>\n",
       "<table border=\"1\" class=\"dataframe\">\n",
       "  <thead>\n",
       "    <tr style=\"text-align: right;\">\n",
       "      <th></th>\n",
       "      <th>Product URL</th>\n",
       "      <th>Product Name</th>\n",
       "      <th>Product Price</th>\n",
       "      <th>Rating</th>\n",
       "      <th>Number of Reviews</th>\n",
       "    </tr>\n",
       "  </thead>\n",
       "  <tbody>\n",
       "    <tr>\n",
       "      <th>0</th>\n",
       "      <td>https://www.amazon.in/b/ref=sxts_spks_0_0_5b47...</td>\n",
       "      <td>N/A</td>\n",
       "      <td>N/A</td>\n",
       "      <td>N/A</td>\n",
       "      <td>N/A</td>\n",
       "    </tr>\n",
       "    <tr>\n",
       "      <th>1</th>\n",
       "      <td>https://www.amazon.in/b/ref=sxts_spks_0_0_5b47...</td>\n",
       "      <td>N/A</td>\n",
       "      <td>N/A</td>\n",
       "      <td>N/A</td>\n",
       "      <td>N/A</td>\n",
       "    </tr>\n",
       "    <tr>\n",
       "      <th>3</th>\n",
       "      <td>https://www.amazon.in/Wesley-Milestone-Waterpr...</td>\n",
       "      <td>Wesley Milestone 2.0 Casual Waterproof Laptop ...</td>\n",
       "      <td>₹499₹499</td>\n",
       "      <td>4.3 out of 5 stars</td>\n",
       "      <td>13,211</td>\n",
       "    </tr>\n",
       "    <tr>\n",
       "      <th>4</th>\n",
       "      <td>https://www.amazon.in/gp/bestsellers/luggage/2...</td>\n",
       "      <td>American Tourister Fizz Large Size 32 Ltrs Cas...</td>\n",
       "      <td>₹799₹799</td>\n",
       "      <td>4.0 out of 5 stars</td>\n",
       "      <td>56,327</td>\n",
       "    </tr>\n",
       "    <tr>\n",
       "      <th>5</th>\n",
       "      <td>https://www.amazon.in/FUR-JADEN-Leatherette-Po...</td>\n",
       "      <td>Fur Jaden Brown Textured Leatherette Stylish &amp;...</td>\n",
       "      <td>₹799₹799</td>\n",
       "      <td>4.3 out of 5 stars</td>\n",
       "      <td>6,865</td>\n",
       "    </tr>\n",
       "  </tbody>\n",
       "</table>\n",
       "</div>"
      ],
      "text/plain": [
       "                                         Product URL  \\\n",
       "0  https://www.amazon.in/b/ref=sxts_spks_0_0_5b47...   \n",
       "1  https://www.amazon.in/b/ref=sxts_spks_0_0_5b47...   \n",
       "3  https://www.amazon.in/Wesley-Milestone-Waterpr...   \n",
       "4  https://www.amazon.in/gp/bestsellers/luggage/2...   \n",
       "5  https://www.amazon.in/FUR-JADEN-Leatherette-Po...   \n",
       "\n",
       "                                        Product Name Product Price  \\\n",
       "0                                                N/A           N/A   \n",
       "1                                                N/A           N/A   \n",
       "3  Wesley Milestone 2.0 Casual Waterproof Laptop ...      ₹499₹499   \n",
       "4  American Tourister Fizz Large Size 32 Ltrs Cas...      ₹799₹799   \n",
       "5  Fur Jaden Brown Textured Leatherette Stylish &...      ₹799₹799   \n",
       "\n",
       "               Rating Number of Reviews  \n",
       "0                 N/A               N/A  \n",
       "1                 N/A               N/A  \n",
       "3  4.3 out of 5 stars            13,211  \n",
       "4  4.0 out of 5 stars            56,327  \n",
       "5  4.3 out of 5 stars             6,865  "
      ]
     },
     "execution_count": 91,
     "metadata": {},
     "output_type": "execute_result"
    }
   ],
   "source": [
    "Data.head()"
   ]
  },
  {
   "cell_type": "code",
   "execution_count": 92,
   "id": "f5394c3a",
   "metadata": {},
   "outputs": [],
   "source": [
    "\n",
    "Data = Data[(Data[\"Product Name\"] != \"N/A\") & (Data[\"Product Price\"] != \"N/A\")]\n"
   ]
  },
  {
   "cell_type": "code",
   "execution_count": 93,
   "id": "04333574",
   "metadata": {},
   "outputs": [
    {
     "data": {
      "text/html": [
       "<div>\n",
       "<style scoped>\n",
       "    .dataframe tbody tr th:only-of-type {\n",
       "        vertical-align: middle;\n",
       "    }\n",
       "\n",
       "    .dataframe tbody tr th {\n",
       "        vertical-align: top;\n",
       "    }\n",
       "\n",
       "    .dataframe thead th {\n",
       "        text-align: right;\n",
       "    }\n",
       "</style>\n",
       "<table border=\"1\" class=\"dataframe\">\n",
       "  <thead>\n",
       "    <tr style=\"text-align: right;\">\n",
       "      <th></th>\n",
       "      <th>Product URL</th>\n",
       "      <th>Product Name</th>\n",
       "      <th>Product Price</th>\n",
       "      <th>Rating</th>\n",
       "      <th>Number of Reviews</th>\n",
       "    </tr>\n",
       "  </thead>\n",
       "  <tbody>\n",
       "    <tr>\n",
       "      <th>3</th>\n",
       "      <td>https://www.amazon.in/Wesley-Milestone-Waterpr...</td>\n",
       "      <td>Wesley Milestone 2.0 Casual Waterproof Laptop ...</td>\n",
       "      <td>₹499₹499</td>\n",
       "      <td>4.3 out of 5 stars</td>\n",
       "      <td>13,211</td>\n",
       "    </tr>\n",
       "    <tr>\n",
       "      <th>4</th>\n",
       "      <td>https://www.amazon.in/gp/bestsellers/luggage/2...</td>\n",
       "      <td>American Tourister Fizz Large Size 32 Ltrs Cas...</td>\n",
       "      <td>₹799₹799</td>\n",
       "      <td>4.0 out of 5 stars</td>\n",
       "      <td>56,327</td>\n",
       "    </tr>\n",
       "    <tr>\n",
       "      <th>5</th>\n",
       "      <td>https://www.amazon.in/FUR-JADEN-Leatherette-Po...</td>\n",
       "      <td>Fur Jaden Brown Textured Leatherette Stylish &amp;...</td>\n",
       "      <td>₹799₹799</td>\n",
       "      <td>4.3 out of 5 stars</td>\n",
       "      <td>6,865</td>\n",
       "    </tr>\n",
       "    <tr>\n",
       "      <th>6</th>\n",
       "      <td>https://www.amazon.in/s/ref=sxin_15_trfobq2av2...</td>\n",
       "      <td>Amazon Basics Opel Laptop Bag/Office/College B...</td>\n",
       "      <td>₹499₹499</td>\n",
       "      <td>4.1 out of 5 stars</td>\n",
       "      <td>Amazon’s private and select curated brands</td>\n",
       "    </tr>\n",
       "    <tr>\n",
       "      <th>7</th>\n",
       "      <td>https://www.amazon.in/Amazon-Basics-Laptop-Col...</td>\n",
       "      <td>Amazon Basics Opel Laptop Bag/Office/College B...</td>\n",
       "      <td>₹499₹499</td>\n",
       "      <td>4.1 out of 5 stars</td>\n",
       "      <td>8</td>\n",
       "    </tr>\n",
       "  </tbody>\n",
       "</table>\n",
       "</div>"
      ],
      "text/plain": [
       "                                         Product URL  \\\n",
       "3  https://www.amazon.in/Wesley-Milestone-Waterpr...   \n",
       "4  https://www.amazon.in/gp/bestsellers/luggage/2...   \n",
       "5  https://www.amazon.in/FUR-JADEN-Leatherette-Po...   \n",
       "6  https://www.amazon.in/s/ref=sxin_15_trfobq2av2...   \n",
       "7  https://www.amazon.in/Amazon-Basics-Laptop-Col...   \n",
       "\n",
       "                                        Product Name Product Price  \\\n",
       "3  Wesley Milestone 2.0 Casual Waterproof Laptop ...      ₹499₹499   \n",
       "4  American Tourister Fizz Large Size 32 Ltrs Cas...      ₹799₹799   \n",
       "5  Fur Jaden Brown Textured Leatherette Stylish &...      ₹799₹799   \n",
       "6  Amazon Basics Opel Laptop Bag/Office/College B...      ₹499₹499   \n",
       "7  Amazon Basics Opel Laptop Bag/Office/College B...      ₹499₹499   \n",
       "\n",
       "               Rating                           Number of Reviews  \n",
       "3  4.3 out of 5 stars                                      13,211  \n",
       "4  4.0 out of 5 stars                                      56,327  \n",
       "5  4.3 out of 5 stars                                       6,865  \n",
       "6  4.1 out of 5 stars  Amazon’s private and select curated brands  \n",
       "7  4.1 out of 5 stars                                           8  "
      ]
     },
     "execution_count": 93,
     "metadata": {},
     "output_type": "execute_result"
    }
   ],
   "source": [
    "Data.head()"
   ]
  },
  {
   "cell_type": "code",
   "execution_count": 94,
   "id": "e84b961c",
   "metadata": {},
   "outputs": [
    {
     "name": "stdout",
     "output_type": "stream",
     "text": [
      "<class 'pandas.core.frame.DataFrame'>\n",
      "Int64Index: 1250 entries, 3 to 1597\n",
      "Data columns (total 5 columns):\n",
      " #   Column             Non-Null Count  Dtype \n",
      "---  ------             --------------  ----- \n",
      " 0   Product URL        1250 non-null   object\n",
      " 1   Product Name       1250 non-null   object\n",
      " 2   Product Price      1250 non-null   object\n",
      " 3   Rating             1250 non-null   object\n",
      " 4   Number of Reviews  1250 non-null   object\n",
      "dtypes: object(5)\n",
      "memory usage: 58.6+ KB\n"
     ]
    }
   ],
   "source": [
    "Data.info()"
   ]
  },
  {
   "cell_type": "code",
   "execution_count": 95,
   "id": "289ce3fe",
   "metadata": {},
   "outputs": [
    {
     "name": "stdout",
     "output_type": "stream",
     "text": [
      "Product URL          0\n",
      "Product Name         0\n",
      "Product Price        0\n",
      "Rating               0\n",
      "Number of Reviews    0\n",
      "dtype: int64\n"
     ]
    }
   ],
   "source": [
    "counts = Data.apply(lambda column: column.value_counts().get(\"N/A\", 0))\n",
    "print(counts)\n"
   ]
  },
  {
   "cell_type": "code",
   "execution_count": 97,
   "id": "b4731611",
   "metadata": {},
   "outputs": [],
   "source": [
    "Data[\"Product Price\"] = Data[\"Product Price\"].str.extract(r'₹([\\d,]+)₹')"
   ]
  },
  {
   "cell_type": "code",
   "execution_count": 100,
   "id": "bb623958",
   "metadata": {},
   "outputs": [
    {
     "data": {
      "text/html": [
       "<div>\n",
       "<style scoped>\n",
       "    .dataframe tbody tr th:only-of-type {\n",
       "        vertical-align: middle;\n",
       "    }\n",
       "\n",
       "    .dataframe tbody tr th {\n",
       "        vertical-align: top;\n",
       "    }\n",
       "\n",
       "    .dataframe thead th {\n",
       "        text-align: right;\n",
       "    }\n",
       "</style>\n",
       "<table border=\"1\" class=\"dataframe\">\n",
       "  <thead>\n",
       "    <tr style=\"text-align: right;\">\n",
       "      <th></th>\n",
       "      <th>Product URL</th>\n",
       "      <th>Product Name</th>\n",
       "      <th>Product Price</th>\n",
       "      <th>Rating</th>\n",
       "      <th>Number of Reviews</th>\n",
       "    </tr>\n",
       "  </thead>\n",
       "  <tbody>\n",
       "    <tr>\n",
       "      <th>3</th>\n",
       "      <td>https://www.amazon.in/Wesley-Milestone-Waterpr...</td>\n",
       "      <td>Wesley Milestone 2.0 Casual Waterproof Laptop ...</td>\n",
       "      <td>499</td>\n",
       "      <td>4.3 out of 5 stars</td>\n",
       "      <td>13,211</td>\n",
       "    </tr>\n",
       "    <tr>\n",
       "      <th>4</th>\n",
       "      <td>https://www.amazon.in/gp/bestsellers/luggage/2...</td>\n",
       "      <td>American Tourister Fizz Large Size 32 Ltrs Cas...</td>\n",
       "      <td>799</td>\n",
       "      <td>4.0 out of 5 stars</td>\n",
       "      <td>56,327</td>\n",
       "    </tr>\n",
       "    <tr>\n",
       "      <th>5</th>\n",
       "      <td>https://www.amazon.in/FUR-JADEN-Leatherette-Po...</td>\n",
       "      <td>Fur Jaden Brown Textured Leatherette Stylish &amp;...</td>\n",
       "      <td>799</td>\n",
       "      <td>4.3 out of 5 stars</td>\n",
       "      <td>6,865</td>\n",
       "    </tr>\n",
       "    <tr>\n",
       "      <th>6</th>\n",
       "      <td>https://www.amazon.in/s/ref=sxin_15_trfobq2av2...</td>\n",
       "      <td>Amazon Basics Opel Laptop Bag/Office/College B...</td>\n",
       "      <td>499</td>\n",
       "      <td>4.1 out of 5 stars</td>\n",
       "      <td>Amazon’s private and select curated brands</td>\n",
       "    </tr>\n",
       "    <tr>\n",
       "      <th>7</th>\n",
       "      <td>https://www.amazon.in/Amazon-Basics-Laptop-Col...</td>\n",
       "      <td>Amazon Basics Opel Laptop Bag/Office/College B...</td>\n",
       "      <td>499</td>\n",
       "      <td>4.1 out of 5 stars</td>\n",
       "      <td>8</td>\n",
       "    </tr>\n",
       "  </tbody>\n",
       "</table>\n",
       "</div>"
      ],
      "text/plain": [
       "                                         Product URL  \\\n",
       "3  https://www.amazon.in/Wesley-Milestone-Waterpr...   \n",
       "4  https://www.amazon.in/gp/bestsellers/luggage/2...   \n",
       "5  https://www.amazon.in/FUR-JADEN-Leatherette-Po...   \n",
       "6  https://www.amazon.in/s/ref=sxin_15_trfobq2av2...   \n",
       "7  https://www.amazon.in/Amazon-Basics-Laptop-Col...   \n",
       "\n",
       "                                        Product Name Product Price  \\\n",
       "3  Wesley Milestone 2.0 Casual Waterproof Laptop ...           499   \n",
       "4  American Tourister Fizz Large Size 32 Ltrs Cas...           799   \n",
       "5  Fur Jaden Brown Textured Leatherette Stylish &...           799   \n",
       "6  Amazon Basics Opel Laptop Bag/Office/College B...           499   \n",
       "7  Amazon Basics Opel Laptop Bag/Office/College B...           499   \n",
       "\n",
       "               Rating                           Number of Reviews  \n",
       "3  4.3 out of 5 stars                                      13,211  \n",
       "4  4.0 out of 5 stars                                      56,327  \n",
       "5  4.3 out of 5 stars                                       6,865  \n",
       "6  4.1 out of 5 stars  Amazon’s private and select curated brands  \n",
       "7  4.1 out of 5 stars                                           8  "
      ]
     },
     "execution_count": 100,
     "metadata": {},
     "output_type": "execute_result"
    }
   ],
   "source": [
    "Data.head()"
   ]
  },
  {
   "cell_type": "code",
   "execution_count": 101,
   "id": "2c9245de",
   "metadata": {},
   "outputs": [
    {
     "name": "stdout",
     "output_type": "stream",
     "text": [
      "<class 'pandas.core.frame.DataFrame'>\n",
      "Int64Index: 1250 entries, 3 to 1597\n",
      "Data columns (total 5 columns):\n",
      " #   Column             Non-Null Count  Dtype \n",
      "---  ------             --------------  ----- \n",
      " 0   Product URL        1250 non-null   object\n",
      " 1   Product Name       1250 non-null   object\n",
      " 2   Product Price      1250 non-null   object\n",
      " 3   Rating             1250 non-null   object\n",
      " 4   Number of Reviews  1250 non-null   object\n",
      "dtypes: object(5)\n",
      "memory usage: 58.6+ KB\n"
     ]
    }
   ],
   "source": [
    "Data.info()"
   ]
  },
  {
   "cell_type": "code",
   "execution_count": 104,
   "id": "dc317340",
   "metadata": {},
   "outputs": [],
   "source": [
    "def scrape_product_info(url):\n",
    "    response = requests.get(url)\n",
    "    if response.status_code == 200:\n",
    "        soup = BeautifulSoup(response.content, 'html.parser')\n",
    "        \n",
    "        # Try to scrape the description\n",
    "        description_element = soup.find('span', {'id': 'productTitle'})\n",
    "        description = description_element.text.strip() if description_element else None\n",
    "        \n",
    "        # Try to scrape ASIN\n",
    "        asin_element = soup.find('th', text='ASIN')\n",
    "        asin = asin_element.find_next('td').text.strip() if asin_element else None\n",
    "        \n",
    "        # Try to scrape product description\n",
    "        product_description_element = soup.find('div', {'id': 'productDescription'})\n",
    "        product_description = product_description_element.text.strip() if product_description_element else None\n",
    "        \n",
    "        # Try to scrape manufacturer\n",
    "        manufacturer_element = soup.find('th', text='Manufacturer')\n",
    "        manufacturer = manufacturer_element.find_next('td').text.strip() if manufacturer_element else None\n",
    "        \n",
    "        return description, asin, product_description, manufacturer\n",
    "    else:\n",
    "        return None, None, None, None\n"
   ]
  },
  {
   "cell_type": "code",
   "execution_count": 105,
   "id": "2c7751a9",
   "metadata": {},
   "outputs": [],
   "source": [
    "# Assuming your DataFrame is named df\n",
    "Data['Description'], Data['ASIN'], Data['Product Description'], Data['Manufacturer'] = zip(*Data['Product URL'].apply(scrape_product_info))\n",
    "\n",
    "\n"
   ]
  },
  {
   "cell_type": "code",
   "execution_count": 112,
   "id": "92ca1d88",
   "metadata": {},
   "outputs": [
    {
     "name": "stdout",
     "output_type": "stream",
     "text": [
      "https://www.amazon.in/Wesley-Milestone-Waterproof-Backpack-Business/dp/B084JGJ8PF/ref=ice_ac_b_dpb\n"
     ]
    }
   ],
   "source": [
    "# Assuming your DataFrame is named df\n",
    "first_product_url = Data[\"Product URL\"].iloc[0]\n",
    "\n",
    "# Print the first product URL\n",
    "print(first_product_url)\n"
   ]
  },
  {
   "cell_type": "code",
   "execution_count": 116,
   "id": "af314929",
   "metadata": {},
   "outputs": [
    {
     "name": "stdout",
     "output_type": "stream",
     "text": [
      "  Description ASIN Product Description Manufacturer\n",
      "0                                                  \n"
     ]
    }
   ],
   "source": [
    "import requests\n",
    "from bs4 import BeautifulSoup\n",
    "import pandas as pd\n",
    "\n",
    "# Define the URL and headers\n",
    "url = \"https://www.amazon.in/Wesley-Milestone-Waterproof-Backpack-Business/dp/B084JGJ8PF/ref=ice_ac_b_dpb?th=1\"\n",
    "headers = {\n",
    "    'User-Agent': 'Mozilla/5.0 (Windows NT 10.0; Win64; x64) AppleWebKit/537.36 (KHTML, like Gecko) Chrome/58.0.3029.110 Safari/537.36'\n",
    "}\n",
    "\n",
    "# Send a GET request to the URL\n",
    "response = requests.get(url, headers=headers)\n",
    "\n",
    "# Check if the request was successful\n",
    "if response.status_code == 200:\n",
    "    soup = BeautifulSoup(response.content, 'html.parser')\n",
    "\n",
    "    # Define variables to store information\n",
    "    description = ''\n",
    "    asin = ''\n",
    "    product_description = ''\n",
    "    manufacturer = ''\n",
    "\n",
    "    # Find and extract the information, handling potential absence of elements\n",
    "    title_element = soup.find('span', {'id': 'productTitle'})\n",
    "    if title_element:\n",
    "        description = title_element.text.strip()\n",
    "\n",
    "    asin_element = soup.find('th', text='ASIN')\n",
    "    if asin_element:\n",
    "        asin = asin_element.find_next('td').text.strip()\n",
    "\n",
    "    product_description_element = soup.find('div', {'id': 'productDescription'})\n",
    "    if product_description_element:\n",
    "        product_description = product_description_element.text.strip()\n",
    "\n",
    "    manufacturer_element = soup.find('th', text='Manufacturer')\n",
    "    if manufacturer_element:\n",
    "        manufacturer = manufacturer_element.find_next('td').text.strip()\n",
    "\n",
    "    # Create a DataFrame\n",
    "    data = {\n",
    "        'Description': [description],\n",
    "        'ASIN': [asin],\n",
    "        'Product Description': [product_description],\n",
    "        'Manufacturer': [manufacturer]\n",
    "    }\n",
    "    df = pd.DataFrame(data)\n",
    "\n",
    "    # Print the DataFrame\n",
    "    print(df)\n",
    "else:\n",
    "    print(\"Failed to retrieve the page.\")\n"
   ]
  },
  {
   "cell_type": "code",
   "execution_count": 119,
   "id": "d7704b6a",
   "metadata": {},
   "outputs": [
    {
     "name": "stdout",
     "output_type": "stream",
     "text": [
      "<class 'pandas.core.frame.DataFrame'>\n",
      "Int64Index: 1250 entries, 3 to 1597\n",
      "Data columns (total 9 columns):\n",
      " #   Column               Non-Null Count  Dtype \n",
      "---  ------               --------------  ----- \n",
      " 0   Product URL          1250 non-null   object\n",
      " 1   Product Name         1250 non-null   object\n",
      " 2   Product Price        1250 non-null   object\n",
      " 3   Rating               1250 non-null   object\n",
      " 4   Number of Reviews    1250 non-null   object\n",
      " 5   Description          9 non-null      object\n",
      " 6   ASIN                 0 non-null      object\n",
      " 7   Product Description  2 non-null      object\n",
      " 8   Manufacturer         0 non-null      object\n",
      "dtypes: object(9)\n",
      "memory usage: 129.9+ KB\n"
     ]
    }
   ],
   "source": [
    "Data.info()"
   ]
  },
  {
   "cell_type": "code",
   "execution_count": 120,
   "id": "64d789cd",
   "metadata": {},
   "outputs": [],
   "source": [
    "Data.to_csv('amazon_products_.csv', index=False)"
   ]
  },
  {
   "cell_type": "code",
   "execution_count": 122,
   "id": "b6614f0c",
   "metadata": {},
   "outputs": [],
   "source": [
    "Data.to_csv('amazon_products_.xls', index=False)"
   ]
  },
  {
   "cell_type": "code",
   "execution_count": null,
   "id": "16849c2f",
   "metadata": {},
   "outputs": [],
   "source": []
  }
 ],
 "metadata": {
  "kernelspec": {
   "display_name": "Python 3 (ipykernel)",
   "language": "python",
   "name": "python3"
  },
  "language_info": {
   "codemirror_mode": {
    "name": "ipython",
    "version": 3
   },
   "file_extension": ".py",
   "mimetype": "text/x-python",
   "name": "python",
   "nbconvert_exporter": "python",
   "pygments_lexer": "ipython3",
   "version": "3.9.12"
  }
 },
 "nbformat": 4,
 "nbformat_minor": 5
}
